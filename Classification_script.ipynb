{
  "cells": [
    {
      "cell_type": "markdown",
      "metadata": {
        "id": "_rWzEvHkggg7"
      },
      "source": [
        "# Random Forest Classification"
      ]
    },
    {
      "cell_type": "markdown",
      "metadata": {
        "id": "pJ0RuR0pggg-"
      },
      "source": [
        "\n",
        "该脚本基于 Chris Holden 的分类脚本:\n",
        "来源: [http://ceholden.github.io/open-geo-tutorial/python/chapter_5_classification.html](http://ceholden.github.io/open-geo-tutorial/python/chapter_5_classification.html)\n",
        "\n",
        "添加/集成的其他内容:\n",
        "- 独立验证\n",
        "- 在预测部分处理内存错误的异常处理\n",
        "- shp文件作为输入 (Julien Rebetez [https://github.com/terrai/rastercube/blob/master/rastercube/datasources/shputils.py](https://github.com/terrai/rastercube/blob/master/rastercube/datasources/shputils.py))\n",
        "- report.txt\n",
        "\n",
        "---\n"
      ]
    },
    {
      "cell_type": "markdown",
      "metadata": {
        "id": "9Ut_gaTPgjro"
      },
      "source": [
        "## 数据准备\n"
      ]
    },
    {
      "cell_type": "code",
      "execution_count": 1,
      "metadata": {
        "id": "VJd8Hgwpn6qa"
      },
      "outputs": [
        {
          "name": "stderr",
          "output_type": "stream",
          "text": [
            "Downloading...\n",
            "From (original): https://drive.google.com/uc?id=1Bq9NjJC-YOQL9XDV_ZvUX3PGnPejwzoQ\n",
            "From (redirected): https://drive.google.com/uc?id=1Bq9NjJC-YOQL9XDV_ZvUX3PGnPejwzoQ&confirm=t&uuid=2ed1f4d5-c312-4b65-a05e-45298cb511c1\n",
            "To: d:\\code313\\Geo_programe\\rasterio\\RF\\data.zip\n",
            "100%|██████████| 56.7M/56.7M [00:07<00:00, 7.91MB/s]\n"
          ]
        },
        {
          "data": {
            "text/plain": [
              "'data.zip'"
            ]
          },
          "execution_count": 1,
          "metadata": {},
          "output_type": "execute_result"
        }
      ],
      "source": [
        "# 下载文件：用原来的文件名\n",
        "\n",
        "import gdown\n",
        "\n",
        "# 共享链接\n",
        "url = 'https://drive.google.com/uc?id=1Bq9NjJC-YOQL9XDV_ZvUX3PGnPejwzoQ'\n",
        "\n",
        "# 下载文件并保留原始文件名\n",
        "gdown.download(url, quiet=False, fuzzy=True)\n"
      ]
    },
    {
      "cell_type": "code",
      "execution_count": 2,
      "metadata": {
        "id": "JsxRaKfX46b3"
      },
      "outputs": [],
      "source": [
        "import os\n",
        "import zipfile   # 解压缩文件需要\n",
        "\n",
        "# 解压缩函数\n",
        "def unzip_file(zip_file_path, extract_to_dir=None):\n",
        "    \"\"\"\n",
        "    解压指定的 ZIP 文件到指定目录。如果没有提供目标目录，则解压到ZIP文件所在的目录。\n",
        "\n",
        "    参数:\n",
        "    zip_file_path (str): ZIP 文件的路径\n",
        "    extract_to_dir (str): 解压后的目标目录（可选）。如果未指定，默认为 ZIP 文件所在目录\n",
        "    \"\"\"\n",
        "    if extract_to_dir is None:\n",
        "        # 如果没有提供目标解压目录，使用ZIP文件的所在目录\n",
        "        extract_to_dir = os.path.dirname(zip_file_path)\n",
        "\n",
        "    # 确保目标目录存在\n",
        "    if not os.path.exists(extract_to_dir):\n",
        "        os.makedirs(extract_to_dir)\n",
        "\n",
        "    # 解压 ZIP 文件\n",
        "    with zipfile.ZipFile(zip_file_path, 'r') as zip_ref:\n",
        "        zip_ref.extractall(extract_to_dir)  # 解压所有文件\n",
        "        print(f\"已解压 '{zip_file_path}' 到 '{extract_to_dir}'\")"
      ]
    },
    {
      "cell_type": "code",
      "execution_count": 3,
      "metadata": {
        "id": "U-VFJQWV5Aga"
      },
      "outputs": [
        {
          "name": "stdout",
          "output_type": "stream",
          "text": [
            "已解压 'data.zip' 到 '.'\n"
          ]
        }
      ],
      "source": [
        "# 解压缩\n",
        "unzip_file('data.zip', '.')"
      ]
    },
    {
      "cell_type": "code",
      "execution_count": 4,
      "metadata": {
        "id": "NQC6OT3sPojI"
      },
      "outputs": [],
      "source": [
        "# 删除ZIP文件，释放存储空间\n",
        "os.remove('data.zip')"
      ]
    },
    {
      "cell_type": "markdown",
      "metadata": {
        "id": "YWZRVrjwggg_"
      },
      "source": [
        "### 1 - 需要的库"
      ]
    },
    {
      "cell_type": "code",
      "execution_count": 5,
      "metadata": {
        "id": "r5SeL8DEgghA"
      },
      "outputs": [
        {
          "ename": "ModuleNotFoundError",
          "evalue": "No module named 'osgeo'",
          "output_type": "error",
          "traceback": [
            "\u001b[1;31m---------------------------------------------------------------------------\u001b[0m",
            "\u001b[1;31mModuleNotFoundError\u001b[0m                       Traceback (most recent call last)",
            "Cell \u001b[1;32mIn[5], line 2\u001b[0m\n\u001b[0;32m      1\u001b[0m \u001b[38;5;66;03m# 导入所需的库\u001b[39;00m\n\u001b[1;32m----> 2\u001b[0m \u001b[38;5;28;01mfrom\u001b[39;00m\u001b[38;5;250m \u001b[39m\u001b[38;5;21;01mosgeo\u001b[39;00m\u001b[38;5;250m \u001b[39m\u001b[38;5;28;01mimport\u001b[39;00m gdal, ogr, gdal_array  \u001b[38;5;66;03m# 导入GDAL库，用于图像数据的输入输出\u001b[39;00m\n\u001b[0;32m      3\u001b[0m \u001b[38;5;28;01mimport\u001b[39;00m\u001b[38;5;250m \u001b[39m\u001b[38;5;21;01mnumpy\u001b[39;00m\u001b[38;5;250m \u001b[39m\u001b[38;5;28;01mas\u001b[39;00m\u001b[38;5;250m \u001b[39m\u001b[38;5;21;01mnp\u001b[39;00m  \u001b[38;5;66;03m# 导入NumPy库，用于数学运算和数组处理\u001b[39;00m\n\u001b[0;32m      4\u001b[0m \u001b[38;5;28;01mimport\u001b[39;00m\u001b[38;5;250m \u001b[39m\u001b[38;5;21;01mmatplotlib\u001b[39;00m\u001b[38;5;21;01m.\u001b[39;00m\u001b[38;5;21;01mpyplot\u001b[39;00m\u001b[38;5;250m \u001b[39m\u001b[38;5;28;01mas\u001b[39;00m\u001b[38;5;250m \u001b[39m\u001b[38;5;21;01mplt\u001b[39;00m  \u001b[38;5;66;03m# 导入Matplotlib库，用于绘图\u001b[39;00m\n",
            "\u001b[1;31mModuleNotFoundError\u001b[0m: No module named 'osgeo'"
          ]
        }
      ],
      "source": [
        "# 导入所需的库\n",
        "from osgeo import gdal, ogr, gdal_array  # 导入GDAL库，用于图像数据的输入输出\n",
        "import numpy as np  # 导入NumPy库，用于数学运算和数组处理\n",
        "import matplotlib.pyplot as plt  # 导入Matplotlib库，用于绘图\n",
        "from sklearn.ensemble import RandomForestClassifier  # 导入随机森林分类器\n",
        "import pandas as pd  # 导入Pandas库，用于处理大型数据表格\n",
        "from sklearn.metrics import classification_report, accuracy_score, confusion_matrix  # 导入用于计算准确性评估的度量\n",
        "\n",
        "import seaborn as sn  # 导入Seaborn库，用于更美观的绘图\n",
        "\n",
        "import datetime  # 导入datetime库，用于处理日期和时间\n",
        "\n",
        "# 告诉GDAL抛出Python异常，并注册所有驱动\n",
        "gdal.UseExceptions()  # 启用GDAL异常\n",
        "gdal.AllRegister()    # 注册所有可用的GDAL驱动\n",
        "\n"
      ]
    },
    {
      "cell_type": "markdown",
      "metadata": {
        "id": "i2vBV4TxgghB"
      },
      "source": [
        "### 2 - 输入数据\n",
        "\n",
        "- 这是唯一一个你必须改变的部分。"
      ]
    },
    {
      "cell_type": "code",
      "execution_count": null,
      "metadata": {
        "id": "Jaw7YZwVgghB"
      },
      "outputs": [],
      "source": [
        "# 定义要使用的树的数量（默认 = 500）\n",
        "est = 500\n",
        "\n",
        "# 应该使用多少个核心？\n",
        "# -1 表示使用所有可用核心\n",
        "n_cores = -1\n",
        "\n",
        "# 要分类的遥感影像文件路径\n",
        "img_RS = './data/2017_09_05_stack.tif'\n",
        "\n",
        "# 训练和验证数据的矢量文件路径（shp文件）\n",
        "training = './data/cal.shp'  # 训练数据\n",
        "validation = './data/val.shp'  # 验证数据\n",
        "# 以上文件需要一个字段“class\"，字段类型为连续整型，如1,2,3...，每一个值代表一种用地类型\n",
        "\n",
        "# 形状文件中类别的属性名称（类别字段名）\n",
        "attribute = 'class'\n",
        "\n",
        "# 分类影像保存的目录：\n",
        "classification_image = './class_.tif'\n",
        "\n",
        "# 所有元结果应保存的目录：\n",
        "results_txt = './results_txt_.txt'\n"
      ]
    },
    {
      "cell_type": "code",
      "execution_count": null,
      "metadata": {
        "id": "0ncJRNjqgghC"
      },
      "outputs": [],
      "source": [
        "# 加载训练数据并显示所有形状属性\n",
        "\n",
        "# model_dataset = gdal.Open(model_raster_fname)  # 该行代码可能用于打开模型栅格数据（目前未使用）\n",
        "shape_dataset = ogr.Open(training)  # 打开训练数据的形状文件\n",
        "shape_layer = shape_dataset.GetLayer()  # 获取形状文件的图层\n",
        "\n",
        "# 提取形状文件中所有属性的名称（字段名）\n",
        "attributes = []\n",
        "ldefn = shape_layer.GetLayerDefn()  # 获取图层的定义\n",
        "for n in range(ldefn.GetFieldCount()):  # 遍历图层中的所有字段\n",
        "    fdefn = ldefn.GetFieldDefn(n)  # 获取字段定义\n",
        "    attributes.append(fdefn.name)  # 将字段名添加到属性列表中\n",
        "\n",
        "# 打印可用的属性\n",
        "print('Available attributes in the shape file are: {}'.format(attributes))\n"
      ]
    },
    {
      "cell_type": "markdown",
      "metadata": {
        "id": "CHDFrOnsgghD"
      },
      "source": [
        "### 3 - 数据准备"
      ]
    },
    {
      "cell_type": "code",
      "execution_count": null,
      "metadata": {
        "id": "7N0gGDAigghD"
      },
      "outputs": [],
      "source": [
        "# 准备结果文本文件：\n",
        "\n",
        "# 在结果文本文件中追加随机森林分类的标题\n",
        "print('Random Forest Classification', file=open(results_txt, \"a\"))\n",
        "# 记录当前处理时间\n",
        "print('Processing: {}'.format(datetime.datetime.now()), file=open(results_txt, \"a\"))\n",
        "# 分隔线\n",
        "print('-------------------------------------------------', file=open(results_txt, \"a\"))\n",
        "# 写入路径信息的标题\n",
        "print('PATHS:', file=open(results_txt, \"a\"))\n",
        "# 记录遥感影像路径\n",
        "print('Image: {}'.format(img_RS), file=open(results_txt, \"a\"))\n",
        "# 记录训练形状文件路径\n",
        "print('Training shape: {}'.format(training), file=open(results_txt, \"a\"))\n",
        "# 记录验证形状文件路径\n",
        "print('Validation shape: {}'.format(validation), file=open(results_txt, \"a\"))\n",
        "# 记录所选属性名称\n",
        "print('      chosen attribute: {}'.format(attribute), file=open(results_txt, \"a\"))\n",
        "# 记录分类影像保存路径\n",
        "print('Classification image: {}'.format(classification_image), file=open(results_txt, \"a\"))\n",
        "# 记录报告文本文件路径\n",
        "print('Report text file: {}'.format(results_txt), file=open(results_txt, \"a\"))\n",
        "# 分隔线\n",
        "print('-------------------------------------------------', file=open(results_txt, \"a\"))\n"
      ]
    },
    {
      "cell_type": "code",
      "execution_count": null,
      "metadata": {
        "id": "p1Fg14XogghE"
      },
      "outputs": [],
      "source": [
        "# 加载影像数据\n",
        "\n",
        "# 打开遥感影像数据集，以只读模式打开\n",
        "img_ds = gdal.Open(img_RS, gdal.GA_ReadOnly)\n",
        "\n",
        "# 创建一个空数组，用于存储影像数据\n",
        "img = np.zeros((img_ds.RasterYSize, img_ds.RasterXSize, img_ds.RasterCount),\n",
        "               gdal_array.GDALTypeCodeToNumericTypeCode(img_ds.GetRasterBand(1).DataType))\n",
        "\n",
        "# 遍历每个波段，将其数据读取到图像数组中\n",
        "for b in range(img.shape[2]):\n",
        "    img[:, :, b] = img_ds.GetRasterBand(b + 1).ReadAsArray()  # 读取每个波段的数据\n"
      ]
    },
    {
      "cell_type": "code",
      "execution_count": null,
      "metadata": {
        "id": "elmLpynZrhyM"
      },
      "outputs": [],
      "source": [
        "import matplotlib.pyplot as plt\n",
        "\n",
        "# 假设红、绿、蓝波段分别为第3、2、1波段（具体的波段索引可以根据您的数据进行调整）\n",
        "red_band = img[:, :, 2]   # 红色波段\n",
        "green_band = img[:, :, 1] # 绿色波段\n",
        "blue_band = img[:, :, 0]  # 蓝色波段\n",
        "\n",
        "# 将每个波段的值归一化到[0, 1]的范围内（可选）\n",
        "red_band_normalized = red_band / np.max(red_band)\n",
        "green_band_normalized = green_band / np.max(green_band)\n",
        "blue_band_normalized = blue_band / np.max(blue_band)\n",
        "\n",
        "# 合成彩色图像\n",
        "rgb_image = np.stack((red_band_normalized, green_band_normalized, blue_band_normalized), axis=-1)\n",
        "\n",
        "# 显示彩色影像\n",
        "plt.figure(figsize=(10, 10))\n",
        "plt.imshow(rgb_image)\n",
        "plt.title('RGB Composite Image')\n",
        "plt.axis('off')  # 不显示坐标轴\n",
        "plt.show()\n"
      ]
    },
    {
      "cell_type": "code",
      "execution_count": null,
      "metadata": {
        "id": "22Ou-6CKrwiY"
      },
      "outputs": [],
      "source": [
        "!pip install -q rasterio"
      ]
    },
    {
      "cell_type": "code",
      "execution_count": null,
      "metadata": {
        "colab": {
          "background_save": true
        },
        "id": "uDw1tK5lrtsz"
      },
      "outputs": [],
      "source": [
        "import rasterio\n",
        "import numpy as np\n",
        "import matplotlib.pyplot as plt\n",
        "\n",
        "# 打开遥感影像数据集\n",
        "with rasterio.open(img_RS) as src:\n",
        "    # 读取波段数据\n",
        "    red_band = src.read(3)   # 假设红色波段为第3波段\n",
        "    green_band = src.read(2) # 假设绿色波段为第2波段\n",
        "    blue_band = src.read(1)  # 假设蓝色波段为第1波段\n",
        "\n",
        "# 将每个波段的值归一化到[0, 1]的范围内（可选）\n",
        "red_band_normalized = red_band / np.max(red_band)\n",
        "green_band_normalized = green_band / np.max(green_band)\n",
        "blue_band_normalized = blue_band / np.max(blue_band)\n",
        "\n",
        "# 合成彩色图像\n",
        "rgb_image = np.dstack((red_band_normalized, green_band_normalized, blue_band_normalized))\n",
        "\n",
        "# 显示彩色影像\n",
        "plt.figure(figsize=(10, 10))\n",
        "plt.imshow(rgb_image)\n",
        "plt.title('RGB Composite Image')\n",
        "plt.axis('off')  # 不显示坐标轴\n",
        "plt.show()\n"
      ]
    },
    {
      "cell_type": "code",
      "execution_count": null,
      "metadata": {
        "id": "7PA0xtdegghE"
      },
      "outputs": [],
      "source": [
        "# 获取影像的行数、列数和波段数\n",
        "row = img_ds.RasterYSize  # 行数（影像高度）\n",
        "col = img_ds.RasterXSize  # 列数（影像宽度）\n",
        "band_number = img_ds.RasterCount  # 波段数量\n",
        "\n",
        "# 打印影像的范围和波段数量\n",
        "print('Image extent: {} x {} (row x col)'.format(row, col))  # 输出影像的行列数\n",
        "print('Number of Bands: {}'.format(band_number))  # 输出波段的数量\n",
        "\n",
        "# 将影像的范围和波段数量写入结果文本文件\n",
        "print('Image extent: {} x {} (row x col)'.format(row, col), file=open(results_txt, \"a\"))  # 写入影像行列数\n",
        "print('Number of Bands: {}'.format(band_number), file=open(results_txt, \"a\"))  # 写入波段数量\n",
        "print('---------------------------------------', file=open(results_txt, \"a\"))  # 分隔符\n",
        "print('TRAINING', file=open(results_txt, \"a\"))  # 输出“训练”标题\n",
        "print('Number of Trees: {}'.format(est), file=open(results_txt, \"a\"))  # 写入随机森林中的树的数量\n"
      ]
    },
    {
      "cell_type": "code",
      "execution_count": null,
      "metadata": {
        "id": "iU30ZjaVgghE"
      },
      "outputs": [],
      "source": [
        "# 从 shapefile 中加载训练数据\n",
        "\n",
        "#model_dataset = gdal.Open(model_raster_fname)  # 此行注释掉的代码，通常用于打开模型栅格文件\n",
        "shape_dataset = ogr.Open(training)  # 打开训练数据 shapefile\n",
        "shape_layer = shape_dataset.GetLayer()  # 获取 shapefile 的图层\n",
        "\n",
        "# 创建内存栅格驱动\n",
        "mem_drv = gdal.GetDriverByName('MEM')  # 获取内存驱动\n",
        "# 创建一个内存栅格，用于存储光栅数据\n",
        "mem_raster = mem_drv.Create('', img_ds.RasterXSize, img_ds.RasterYSize, 1, gdal.GDT_UInt16)\n",
        "mem_raster.SetProjection(img_ds.GetProjection())  # 设置内存栅格的投影信息\n",
        "mem_raster.SetGeoTransform(img_ds.GetGeoTransform())  # 设置内存栅格的地理变换信息\n",
        "mem_band = mem_raster.GetRasterBand(1)  # 获取内存栅格的波段\n",
        "mem_band.Fill(0)  # 用 0 填充内存波段\n",
        "mem_band.SetNoDataValue(0)  # 设置无数据值为 0\n",
        "\n",
        "# 设置要素属性，用于光栅化\n",
        "att_ = 'ATTRIBUTE=' + attribute\n",
        "# RasterizeLayer 函数的参考链接\n",
        "# http://gdal.org/gdal__alg_8h.html#adfe5e5d287d6c184aab03acbfa567cb1\n",
        "# http://gis.stackexchange.com/questions/31568/gdal-rasterizelayer-doesnt-burn-all-polygons-to-raster\n",
        "# 光栅化 shapefile 中的图层到内存栅格\n",
        "err = gdal.RasterizeLayer(mem_raster, [1], shape_layer, None, None, [1], [att_, \"ALL_TOUCHED=TRUE\"])\n",
        "assert err == gdal.CE_None  # 检查光栅化过程是否成功\n",
        "\n",
        "roi = mem_raster.ReadAsArray()  # 将内存栅格的内容读入数组\n",
        "roi"
      ]
    },
    {
      "cell_type": "code",
      "execution_count": null,
      "metadata": {
        "id": "T1CibBbTgghF"
      },
      "outputs": [],
      "source": [
        "# 显示影像\n",
        "plt.subplot(121)  # 创建 1 行 2 列的子图，选择第一个子图\n",
        "plt.imshow(img[:, :, 0], cmap=plt.cm.Greys_r)  # 显示第一波段的遥感影像，使用灰色反转色图\n",
        "plt.title('RS image - first band')  # 设置子图标题\n",
        "\n",
        "plt.subplot(122)  # 选择第二个子图\n",
        "plt.imshow(roi, cmap=plt.cm.Spectral)  # 显示训练图像，使用光谱色图\n",
        "plt.title('Training Image')  # 设置子图标题\n",
        "\n",
        "plt.show()  # 显示所有子图\n",
        "\n",
        "# 训练像素的数量：\n",
        "n_samples = (roi > 0).sum()  # 统计训练数据中大于 0 的像素数量\n",
        "print('{n} training samples'.format(n=n_samples))  # 打印训练样本数量\n",
        "print('{n} training samples'.format(n=n_samples), file=open(results_txt, \"a\"))  # 将结果写入文本文件\n",
        "\n",
        "# 我们的分类标签是什么？\n",
        "labels = np.unique(roi[roi > 0])  # 提取训练数据中独特的类标签\n",
        "print('training data include {n} classes: {classes}'.format(n=labels.size, classes=labels))  # 打印类的数量和标签\n",
        "print('training data include {n} classes: {classes}'.format(n=labels.size, classes=labels), file=open(results_txt, \"a\"))  # 写入结果文本文件\n",
        "\n",
        "# 从影像数据集中提取训练图像 = X\n",
        "# 在训练数据集中掩模类 = y\n",
        "# 这些将有 n_samples 行\n",
        "X = img[roi > 0, :]  # 选择 roi 中大于 0 的像素对应的影像数据\n",
        "y = roi[roi > 0]  # 选择 roi 中大于 0 的像素对应的标签\n",
        "\n",
        "print('Our X matrix is sized: {sz}'.format(sz=X.shape))  # 打印 X 矩阵的形状\n",
        "print('Our y array is sized: {sz}'.format(sz=y.shape))  # 打印 y 数组的形状\n"
      ]
    },
    {
      "cell_type": "markdown",
      "metadata": {
        "id": "GTMRDQ5zgghF"
      },
      "source": [
        "### 4 - 训练RF模型"
      ]
    },
    {
      "cell_type": "code",
      "execution_count": null,
      "metadata": {
        "id": "vuFXq49qgghF"
      },
      "outputs": [],
      "source": [
        "# 创建随机森林分类器\n",
        "rf = RandomForestClassifier(n_estimators=est, oob_score=True, verbose=1, n_jobs=n_cores)\n",
        "# n_estimators: 决策树的数量\n",
        "# oob_score: 使用袋外样本进行评分\n",
        "# verbose: 1 表示输出进度信息（0 为不输出，2 为每棵树的进度）\n",
        "# n_jobs: 使用的核数，-1 表示使用所有可用核\n",
        "\n",
        "# 如果需要更详细的进度信息，可以将 verbose 设置为 2\n",
        "# rf = RandomForestClassifier(n_estimators=est, oob_score=True, verbose=2, n_jobs=n_cores)\n",
        "\n",
        "# 将 X 中的 NaN 值替换为 0\n",
        "X = np.nan_to_num(X)\n",
        "\n",
        "# 训练随机森林模型\n",
        "rf2 = rf.fit(X, y)  # 拟合模型，X 为特征数据，y 为标签\n"
      ]
    },
    {
      "cell_type": "markdown",
      "metadata": {
        "id": "ZJpYK3G-gghF"
      },
      "source": [
        "### 5 - RF模型诊断"
      ]
    },
    {
      "cell_type": "code",
      "execution_count": null,
      "metadata": {
        "id": "Mlf5_lujgghG"
      },
      "outputs": [],
      "source": [
        "# 模型训练完成后，可以检查“袋外” (OOB) 预测得分：\n",
        "print('--------------------------------', file=open(results_txt, \"a\"))\n",
        "print('训练和随机森林模型诊断:', file=open(results_txt, \"a\"))\n",
        "print('OOB 预测准确度为: {oob}%'.format(oob=rf.oob_score_ * 100))  # 打印 OOB 预测准确度\n",
        "print('OOB 预测准确度为: {oob}%'.format(oob=rf.oob_score_ * 100), file=open(results_txt, \"a\"))\n",
        "\n",
        "# 显示各波段的重要性\n",
        "bands = range(1, img_ds.RasterCount + 1)  # 波段范围\n",
        "\n",
        "# 遍历每个波段和对应的重要性得分\n",
        "for b, imp in zip(bands, rf2.feature_importances_):\n",
        "    print('波段 {b} 的重要性: {imp}'.format(b=b, imp=imp))  # 打印波段重要性\n",
        "    print('波段 {b} 的重要性: {imp}'.format(b=b, imp=imp), file=open(results_txt, \"a\"))  # 记录到结果文件\n",
        "\n",
        "# 进行类混淆的交叉表分析\n",
        "# 导入 Pandas 库以帮助处理\n",
        "# 设置数据框，就像在 R 中一样\n",
        "# 异常处理以避免可能的内存错误\n",
        "\n",
        "try:\n",
        "    df = pd.DataFrame()  # 创建空数据框\n",
        "    df['truth'] = y  # 真实标签\n",
        "    df['predict'] = rf.predict(X)  # 预测标签\n",
        "\n",
        "except MemoryError:\n",
        "    print('交叉表不可用')  # 如果内存错误，打印错误信息\n",
        "\n",
        "else:\n",
        "    # 交叉表分析预测结果\n",
        "    print(pd.crosstab(df['truth'], df['predict'], margins=True))  # 打印交叉表\n",
        "    print(pd.crosstab(df['truth'], df['predict'], margins=True), file=open(results_txt, \"a\"))  # 记录到结果文件\n"
      ]
    },
    {
      "cell_type": "code",
      "execution_count": null,
      "metadata": {
        "id": "wGuJRqBegghG"
      },
      "outputs": [],
      "source": [
        "# 计算混淆矩阵\n",
        "cm = confusion_matrix(y, rf.predict(X))  # 真实标签与预测标签之间的混淆矩阵\n",
        "\n",
        "# 设置绘图大小\n",
        "plt.figure(figsize=(10, 7))\n",
        "\n",
        "# 使用 seaborn 绘制热力图\n",
        "sn.heatmap(cm, annot=True, fmt='g', cmap='Blues')  # annot=True 表示在热力图上显示数字, fmt='g' 表示使用整数格式\n",
        "\n",
        "# 设置 x 轴和 y 轴标签\n",
        "plt.xlabel('classes - predicted')\n",
        "plt.ylabel('classes - truth')\n",
        "plt.title('heatmap')  # 添加标题\n",
        "\n",
        "# 显示图形\n",
        "plt.show()\n"
      ]
    },
    {
      "cell_type": "markdown",
      "metadata": {
        "id": "UXkj2GdfgghG"
      },
      "source": [
        "### 5 - 预测"
      ]
    },
    {
      "cell_type": "code",
      "execution_count": null,
      "metadata": {
        "id": "abVVC0h8gghG"
      },
      "outputs": [],
      "source": [
        "# 将完整的影像重塑为二维长数组 (nrow * ncol, nband) 以便进行分类\n",
        "new_shape = (img.shape[0] * img.shape[1], img.shape[2])  # 新的形状: 行数乘以列数，波段数不变\n",
        "img_as_array = img[:, :, :int(img.shape[2])].reshape(new_shape)  # 重塑数组\n",
        "\n",
        "print('重塑前形状: {o} -> 重塑后形状: {n}'.format(o=img.shape, n=img_as_array.shape))  # 输出重塑前后的形状\n",
        "\n",
        "# 替换数组中的 NaN 值为 0\n",
        "img_as_array = np.nan_to_num(img_as_array)\n",
        "img_as_array.shape\n"
      ]
    },
    {
      "cell_type": "code",
      "execution_count": null,
      "metadata": {
        "id": "b0BWFk-XgghG"
      },
      "outputs": [],
      "source": [
        "# 现在对每个像素进行预测\n",
        "# 首先尝试在整个图像上进行预测\n",
        "try:\n",
        "    class_prediction = rf.predict(img_as_array)\n",
        "except MemoryError:\n",
        "    slices = int(round(len(img_as_array) / 2))  # 初始切片大小\n",
        "    test = True\n",
        "\n",
        "    while test:\n",
        "        try:\n",
        "            class_preds = []  # 存储预测结果\n",
        "\n",
        "            # 对第一部分数据进行预测\n",
        "            temp = rf.predict(img_as_array[0:slices, :])\n",
        "            class_preds.append(temp)\n",
        "\n",
        "            # 对剩余数据进行逐片预测\n",
        "            for i in range(slices, len(img_as_array), slices):\n",
        "                print('{} % completed, current index: {}'.format((i * 100) / len(img_as_array), i))\n",
        "                temp = rf.predict(img_as_array[i:i + slices, :])  # 注意切片边界\n",
        "                class_preds.append(temp)\n",
        "\n",
        "            # 将预测结果合并为一个一维数组\n",
        "            class_prediction = np.concatenate(class_preds)\n",
        "\n",
        "        except MemoryError:\n",
        "            slices = max(1, int(slices / 2))  # 确保切片大小始终是正整数\n",
        "            print('Not enough RAM, new slice size = {}'.format(slices))\n",
        "\n",
        "        else:\n",
        "            test = False  # 预测成功，无需再分片\n",
        "else:\n",
        "    print('Class prediction was successful without slicing!')\n",
        "\n",
        "# 输出最终预测结果的形状\n",
        "print('Final class prediction shape:', class_prediction.shape)\n"
      ]
    },
    {
      "cell_type": "code",
      "execution_count": null,
      "metadata": {
        "id": "8hnnJjhLgghH"
      },
      "outputs": [],
      "source": [
        "# 将所有切片合并并重新调整形状以匹配原始图像的尺寸\n",
        "try:\n",
        "    # 尝试将所有切片的预测结果合并为一个数组\n",
        "    class_prediction = np.concatenate(class_preds, axis=0)\n",
        "except NameError:\n",
        "    # 如果没有进行切片，则输出相应的提示信息\n",
        "    print('没有进行切片处理！')\n",
        "\n",
        "# 将合并后的预测结果重新调整为与原始图像相同的形状\n",
        "class_prediction = class_prediction.reshape(img[:, :, 0].shape)\n",
        "print('调整回的形状为: {}'.format(class_prediction.shape))\n",
        "\n"
      ]
    },
    {
      "cell_type": "markdown",
      "metadata": {
        "id": "lt1xxEkDgghH"
      },
      "source": [
        "### 6 - 掩膜\n",
        "\n",
        "- 掩模分类图像（黑色边框 = 0）\n"
      ]
    },
    {
      "cell_type": "code",
      "execution_count": null,
      "metadata": {
        "id": "xD3CONNHgghH"
      },
      "outputs": [],
      "source": [
        "# 从红色波段生成掩模图像\n",
        "mask = np.copy(img[:, :, 0])  # 复制红色波段的数据\n",
        "mask[mask > 0.0] = 1.0  # 所有实际像素的值设为1.0\n",
        "\n",
        "# 绘制掩模\n",
        "plt.imshow(mask)  # 使用imshow显示掩模图像\n",
        "plt.title('Mask Image')  # 添加标题以说明图像内容\n",
        "plt.colorbar(label='Mask Value')  # 添加颜色条以指示掩模值\n",
        "plt.show()  # 显示图像\n"
      ]
    },
    {
      "cell_type": "code",
      "execution_count": null,
      "metadata": {
        "id": "5f8_eyBagghH"
      },
      "outputs": [],
      "source": [
        "# 掩模分类并绘制图像\n",
        "\n",
        "class_prediction.astype(np.float16)  # 将分类结果转换为float16类型以节省内存\n",
        "class_prediction_ = class_prediction * mask  # 将分类结果与掩模相乘，应用掩模\n",
        "\n",
        "# 绘制未掩模的分类结果\n",
        "plt.subplot(121)  # 创建第一个子图\n",
        "plt.imshow(class_prediction, cmap=plt.cm.Spectral)  # 显示未掩模的分类结果\n",
        "plt.title('classification unmasked')  # 添加标题，说明图像内容\n",
        "\n",
        "# 绘制掩模后的分类结果\n",
        "plt.subplot(122)  # 创建第二个子图\n",
        "plt.imshow(class_prediction_, cmap=plt.cm.Spectral)  # 显示掩模后的分类结果\n",
        "plt.title('classification masked')  # 添加标题，说明图像内容\n",
        "\n",
        "plt.show()  # 显示所有图像\n"
      ]
    },
    {
      "cell_type": "markdown",
      "metadata": {
        "id": "0qC5sbkIgghH"
      },
      "source": [
        "### 7 - 保存分类影像"
      ]
    },
    {
      "cell_type": "code",
      "execution_count": null,
      "metadata": {
        "id": "l8NWH6A0gghI"
      },
      "outputs": [],
      "source": [
        "cols = img.shape[1]  # 获取图像的列数\n",
        "rows = img.shape[0]  # 获取图像的行数\n",
        "\n",
        "class_prediction_.astype(np.float16)  # 将分类结果转换为float16类型以节省内存（注意：未赋值，实际没有改变）\n",
        "\n",
        "# 创建GeoTIFF驱动\n",
        "driver = gdal.GetDriverByName(\"gtiff\")  # 获取GeoTIFF格式的GDAL驱动\n",
        "# 创建输出数据集\n",
        "outdata = driver.Create(classification_image, cols, rows, 1, gdal.GDT_UInt16)  # 创建一个新的GeoTIFF文件，指定文件名、列数、行数、波段数和数据类型\n",
        "outdata.SetGeoTransform(img_ds.GetGeoTransform())  # 设置与输入图像相同的地理变换\n",
        "outdata.SetProjection(img_ds.GetProjection())  # 设置与输入图像相同的投影\n",
        "\n",
        "# 将分类结果写入输出数据集的波段\n",
        "outdata.GetRasterBand(1).WriteArray(class_prediction_)  # 将分类结果写入第一波段\n",
        "outdata.FlushCache()  # 将数据写入磁盘\n",
        "print('Image saved to: {}'.format(classification_image))  # 打印输出文件保存位置\n"
      ]
    },
    {
      "cell_type": "markdown",
      "metadata": {
        "id": "s6pVDGUQgghI"
      },
      "source": [
        "### 8 - 精度评价"
      ]
    },
    {
      "cell_type": "code",
      "execution_count": null,
      "metadata": {
        "id": "FwIKygeRgghI"
      },
      "outputs": [],
      "source": [
        "# 验证 / 准确度评估\n",
        "\n",
        "# 准备结果文本文件\n",
        "print('------------------------------------', file=open(results_txt, \"a\"))\n",
        "print('VALIDATION', file=open(results_txt, \"a\"))\n",
        "\n",
        "# 从 shapefile 加载验证数据\n",
        "shape_dataset_v = ogr.Open(validation)  # 打开验证数据的 shapefile\n",
        "shape_layer_v = shape_dataset_v.GetLayer()  # 获取图层\n",
        "mem_drv_v = gdal.GetDriverByName('MEM')  # 获取内存驱动\n",
        "# 创建一个内存栅格以存储验证数据\n",
        "mem_raster_v = mem_drv_v.Create('', img_ds.RasterXSize, img_ds.RasterYSize, 1, gdal.GDT_UInt16)\n",
        "mem_raster_v.SetProjection(img_ds.GetProjection())  # 设置与输入图像相同的投影\n",
        "mem_raster_v.SetGeoTransform(img_ds.GetGeoTransform())  # 设置与输入图像相同的地理变换\n",
        "mem_band_v = mem_raster_v.GetRasterBand(1)  # 获取第一波段\n",
        "mem_band_v.Fill(0)  # 填充初始值为 0\n",
        "mem_band_v.SetNoDataValue(0)  # 设置无数据值为 0\n",
        "\n",
        "# 栅格化图层到内存栅格\n",
        "err_v = gdal.RasterizeLayer(mem_raster_v, [1], shape_layer_v, None, None, [1], [att_, \"ALL_TOUCHED=TRUE\"])\n",
        "assert err_v == gdal.CE_None  # 确保栅格化没有错误\n",
        "\n",
        "roi_v = mem_raster_v.ReadAsArray()  # 读取栅格化后的验证数据\n",
        "\n",
        "# 可视化结果\n",
        "plt.subplot(221)\n",
        "plt.imshow(img[:, :, 0], cmap=plt.cm.Greys_r)  # 显示遥感图像第一波段\n",
        "plt.title('RS_Image - first band')\n",
        "\n",
        "plt.subplot(222)\n",
        "plt.imshow(class_prediction, cmap=plt.cm.Spectral)  # 显示分类结果\n",
        "plt.title('Classification result')\n",
        "\n",
        "plt.subplot(223)\n",
        "plt.imshow(roi, cmap=plt.cm.Spectral)  # 显示训练数据\n",
        "plt.title('Training Data')\n",
        "\n",
        "plt.subplot(224)\n",
        "plt.imshow(roi_v, cmap=plt.cm.Spectral)  # 显示验证数据\n",
        "plt.title('Validation Data')\n",
        "\n",
        "plt.show()\n",
        "\n",
        "# 统计非零条目的数量，即验证数据样本数量\n",
        "n_val = (roi_v > 0).sum()  # 计算验证样本数量\n",
        "print('{n} validation pixels'.format(n=n_val))  # 打印样本数量\n",
        "print('{n} validation pixels'.format(n=n_val), file=open(results_txt, \"a\"))  # 保存到结果文本\n",
        "\n",
        "# 获取验证数据标签\n",
        "labels_v = np.unique(roi_v[roi_v > 0])  # 获取验证数据中的唯一标签\n",
        "print('validation data include {n} classes: {classes}'.format(n=labels_v.size, classes=labels_v))  # 打印标签信息\n",
        "print('validation data include {n} classes: {classes}'.format(n=labels_v.size, classes=labels_v), file=open(results_txt, \"a\"))  # 保存到结果文本\n",
        "\n",
        "# 根据验证图像子集分类图像 X\n",
        "# 用于验证数据的类掩码 y\n",
        "X_v = class_prediction[roi_v > 0]  # 分类图像中的验证样本\n",
        "y_v = roi_v[roi_v > 0]  # 验证数据的实际样本\n",
        "\n",
        "print('Our X matrix is sized: {sz_v}'.format(sz_v=X_v.shape))  # 打印 X 矩阵大小\n",
        "print('Our y array is sized: {sz_v}'.format(sz_v=y_v.shape))  # 打印 y 数组大小\n",
        "\n",
        "# 交叉制表预测结果\n",
        "# 混淆矩阵\n",
        "convolution_mat = pd.crosstab(y_v, X_v, margins=True)  # 生成交叉表\n",
        "print(convolution_mat)  # 打印混淆矩阵\n",
        "print(convolution_mat, file=open(results_txt, \"a\"))  # 保存到结果文本\n",
        "\n",
        "# 计算精确率、召回率、F1 分数和支持度的信息\n",
        "# http://scikit-learn.org/stable/modules/generated/sklearn.metrics.precision_recall_fscore_support.html\n",
        "target_names = list()  # 存储目标类名\n",
        "for name in range(1, (labels.size) + 1):\n",
        "    target_names.append(str(name))  # 添加类名\n",
        "sum_mat = classification_report(y_v, X_v, target_names=target_names)  # 生成分类报告\n",
        "print(sum_mat)  # 打印分类报告\n",
        "print(sum_mat, file=open(results_txt, \"a\"))  # 保存到结果文本\n",
        "\n",
        "# 计算总体准确度 (OAA)\n",
        "print('OAA = {} %'.format(accuracy_score(y_v, X_v) * 100))  # 打印总体准确度\n",
        "print('OAA = {} %'.format(accuracy_score(y_v, X_v) * 100), file=open(results_txt, \"a\"))  # 保存到结果文本\n"
      ]
    },
    {
      "cell_type": "code",
      "execution_count": null,
      "metadata": {
        "id": "Pnl_V-nfgghI"
      },
      "outputs": [],
      "source": [
        "# 计算验证数据的混淆矩阵\n",
        "cm_val = confusion_matrix(roi_v[roi_v > 0], class_prediction[roi_v > 0])  # 计算混淆矩阵，真实标签和预测标签\n",
        "plt.figure(figsize=(10, 7))  # 设置图形的大小\n",
        "# 绘制热力图以显示混淆矩阵\n",
        "sn.heatmap(cm_val, annot=True, fmt='g')  # annot=True 显示每个单元格的数值，fmt='g' 指定格式为整数\n",
        "plt.xlabel('classes - predicted')  # x轴标签：预测类别\n",
        "plt.ylabel('classes - truth')  # y轴标签：真实类别\n",
        "plt.show()  # 显示图形\n"
      ]
    }
  ],
  "metadata": {
    "accelerator": "GPU",
    "colab": {
      "gpuType": "T4",
      "provenance": []
    },
    "kernelspec": {
      "display_name": "envi (3.10.7)",
      "language": "python",
      "name": "python3"
    },
    "language_info": {
      "codemirror_mode": {
        "name": "ipython",
        "version": 3
      },
      "file_extension": ".py",
      "mimetype": "text/x-python",
      "name": "python",
      "nbconvert_exporter": "python",
      "pygments_lexer": "ipython3",
      "version": "3.10.7"
    }
  },
  "nbformat": 4,
  "nbformat_minor": 0
}
